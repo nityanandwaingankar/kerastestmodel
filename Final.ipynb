{
 "cells": [
  {
   "cell_type": "code",
   "execution_count": 1,
   "id": "f73514fd",
   "metadata": {
    "scrolled": true
   },
   "outputs": [
    {
     "name": "stdout",
     "output_type": "stream",
     "text": [
      "TensorFlow version: 2.11.0\n"
     ]
    }
   ],
   "source": [
    "import tensorflow as tf\n",
    "import mlflow\n",
    "import matplotlib.pyplot as plt\n",
    "from keras import backend as K\n",
    "import numpy as np\n",
    "import pandas as pd\n",
    "import logging\n",
    "from tensorflow.keras.layers import Layer, Conv2D, BatchNormalization, MaxPooling2D,Flatten,Dropout,Dense, Lambda\n",
    "print(\"TensorFlow version:\", tf.__version__)"
   ]
  },
  {
   "cell_type": "code",
   "execution_count": 2,
   "id": "6e4174f4",
   "metadata": {},
   "outputs": [],
   "source": [
    "# #download the dataset\n",
    "# mnist = tf.keras.datasets.mnist\n",
    "# #import data from datasets\n",
    "\n",
    "# (X_train, y_train), (X_test, y_test) = mnist.load_data()\n",
    "\n",
    "# #converting values to 0<val<1\n",
    "# X_train, X_test = X_train / 255.0, X_test / 255.0\n",
    "# #if we dont normalize, it produces a bias\n",
    "\n",
    "# ##WHAT is mnist dataset??\n",
    "# #28x28 pixel images "
   ]
  },
  {
   "cell_type": "code",
   "execution_count": 3,
   "id": "174162b2",
   "metadata": {},
   "outputs": [],
   "source": [
    "from numpy import save, load"
   ]
  },
  {
   "cell_type": "code",
   "execution_count": 4,
   "id": "95de2e09",
   "metadata": {},
   "outputs": [],
   "source": [
    "# save('Inputdata/X_train.npy', X_train)\n",
    "# save('Inputdata/y_train.npy', y_train)\n",
    "# save('Inputdata/X_test.npy', X_test)\n",
    "# save('Inputdata/y_test.npy', y_test)"
   ]
  },
  {
   "cell_type": "code",
   "execution_count": 5,
   "id": "6f2591c3",
   "metadata": {},
   "outputs": [],
   "source": [
    "X_train = load('Inputdata/X_train.npy')\n",
    "y_train = load('Inputdata/y_train.npy')\n",
    "X_test = load('Inputdata/X_test.npy')\n",
    "y_test = load('Inputdata/y_test.npy')"
   ]
  },
  {
   "cell_type": "code",
   "execution_count": 6,
   "id": "2ff2c731",
   "metadata": {},
   "outputs": [],
   "source": [
    "# Reshape X_train to (60000, 784) and X_test to (10000, 784)\n",
    "X_train = X_train.reshape(X_train.shape[0], X_train.shape[1]*X_train.shape[2])\n",
    "X_test = X_test.reshape(X_test.shape[0], X_test.shape[1]*X_test.shape[2])"
   ]
  },
  {
   "cell_type": "code",
   "execution_count": 7,
   "id": "35da4cb4",
   "metadata": {},
   "outputs": [],
   "source": [
    "# Convert target (y_train and y_test) into one-hot\n",
    "from tensorflow.keras.utils import to_categorical\n",
    "temp = []\n",
    "for i in range(len(y_train)):\n",
    "    temp.append(to_categorical(y_train[i], num_classes=10))\n",
    "    \n",
    "y_train = np.array(temp)\n",
    "temp = []\n",
    "for i in range(len(y_test)):\n",
    "    temp.append(to_categorical(y_test[i], num_classes=10))\n",
    "\n",
    "y_test = np.array(temp)"
   ]
  },
  {
   "cell_type": "code",
   "execution_count": 8,
   "id": "bf791c38",
   "metadata": {},
   "outputs": [
    {
     "data": {
      "text/plain": [
       "(60000, 10)"
      ]
     },
     "execution_count": 8,
     "metadata": {},
     "output_type": "execute_result"
    }
   ],
   "source": [
    "# X_train.shape\n",
    "y_train.shape\n",
    "# X_test.shape\n",
    "# y_test.shape"
   ]
  },
  {
   "cell_type": "code",
   "execution_count": 9,
   "id": "ffa2c119",
   "metadata": {},
   "outputs": [],
   "source": [
    "input_data = {'X_train':'Inputdata/X_train.npy','y_train':'Inputdata/y_train.npy','X_test':'Inputdata/X_test.npy','y_test':'Inputdata/y_test.npy'}"
   ]
  },
  {
   "cell_type": "code",
   "execution_count": 10,
   "id": "a24988da",
   "metadata": {},
   "outputs": [],
   "source": [
    "#plt.imshow(X_test[8])"
   ]
  },
  {
   "cell_type": "code",
   "execution_count": 11,
   "id": "9d1561cf",
   "metadata": {},
   "outputs": [],
   "source": [
    "# create eval pd.df \n",
    "targets = np.where(y_test == np.amax(y_test))[1]\n",
    "\n",
    "# targets\n",
    "\n",
    "df = pd.DataFrame(X_test)\n",
    "df['target'] = targets"
   ]
  },
  {
   "cell_type": "code",
   "execution_count": 12,
   "id": "a97f69d6",
   "metadata": {},
   "outputs": [],
   "source": [
    "run_params={'loss':'categorical_crossentropy','optimizer':'adam','epochs':20}\n",
    "\n",
    "# loss: poisson, kl_divergence, mean_squared_error, sparse_categorical_crossentropy\n",
    "# optimizer: adam, Adadelta, SGD\n",
    "# epoch: 3, 5, 7, 12"
   ]
  },
  {
   "cell_type": "code",
   "execution_count": null,
   "id": "bb4dd155",
   "metadata": {},
   "outputs": [],
   "source": []
  },
  {
   "cell_type": "code",
   "execution_count": 13,
   "id": "d9cc32a3",
   "metadata": {},
   "outputs": [],
   "source": [
    "def training_basic_classifier(X_train,y_train,run_params):\n",
    "    ##Build the machine learning model\n",
    "    model = tf.keras.models.Sequential([\n",
    "      tf.keras.layers.Flatten(input_shape=(X_train.shape[1],)),\n",
    "      tf.keras.layers.Dense(128, activation='relu'),\n",
    "      tf.keras.layers.Dropout(0.2),\n",
    "      tf.keras.layers.Dense(10, activation='softmax')\n",
    "    ])  \n",
    "    \n",
    "#     loss_fn = tf.keras.losses.SparseCategoricalCrossentropy(from_logits=True)\n",
    "#     loss_fn(y_train[:1], predictions).numpy()\n",
    "    \n",
    "    ##Use the `Model.fit` method to adjust your model parameters and minimize the loss: \n",
    "    model.compile(optimizer=run_params['optimizer'],\n",
    "              loss=run_params['loss'],\n",
    "              metrics=['accuracy','mse','mae'])\n",
    "    history=model.fit(X_train,y_train, batch_size=50,epochs=run_params['epochs'], validation_split=0.2)\n",
    "    model.add(Lambda(lambda x: K.cast(K.argmax(x), dtype='float32'), name='y_pred'))\n",
    "    return  history, model\n",
    "\n",
    "##WHAT is loss function?"
   ]
  },
  {
   "cell_type": "code",
   "execution_count": 14,
   "id": "097e83a7",
   "metadata": {},
   "outputs": [],
   "source": [
    "def predict_on_test_data(model,X_test):\n",
    "    y_pred = model.predict(X_test)\n",
    "    return y_pred"
   ]
  },
  {
   "cell_type": "code",
   "execution_count": 15,
   "id": "af595cf2",
   "metadata": {},
   "outputs": [],
   "source": [
    "def get_metrics(history):\n",
    "    plt.plot(history.history['loss'], label='train')\n",
    "    plt.plot(history.history['val_loss'], label = 'val')\n",
    "    plt.ylabel('loss')\n",
    "    plt.xlabel('Epochs')\n",
    "    plt.legend()\n",
    "    #plt.show()\n",
    "    plt.savefig('loss.png')\n",
    "    plt.clf()\n",
    "    \n",
    "    plt.plot(history.history['accuracy'], label='train')\n",
    "    plt.plot(history.history['val_accuracy'], label='val')\n",
    "    plt.ylabel('Accuracy')\n",
    "    plt.xlabel('Epochs')\n",
    "    plt.legend()\n",
    "    #plt.show()\n",
    "    plt.savefig('Accuracy.png')\n",
    "    plt.clf()\n",
    "    \n",
    "    plt.plot(history.history['mse'], label='train')\n",
    "    plt.plot(history.history['val_mse'], label='val')\n",
    "    plt.ylabel('Mean Squared Error')\n",
    "    plt.xlabel('Epochs')\n",
    "    plt.legend()\n",
    "    #plt.show()\n",
    "    plt.savefig('Mean Squared Error.png')\n",
    "    plt.clf()\n",
    "    \n",
    "    plt.plot(history.history['mae'], label='train')\n",
    "    plt.plot(history.history['val_mae'], label='val')\n",
    "    plt.ylabel('Mean Absolute error')\n",
    "    plt.xlabel('Epochs')\n",
    "    plt.legend()\n",
    "    #plt.show()\n",
    "    plt.savefig('Mean Absolute error.png')\n",
    "    return {'loss':history.history['loss'],'val_loss':history.history['val_loss'],'accuracy':history.history['accuracy'],'val_accuracy':history.history['val_accuracy'],\n",
    "            'mse':history.history['mse'],'val_mse':history.history['val_mse'],'mae':history.history['mae'],'val_mae':history.history['val_mae']}\n",
    "    "
   ]
  },
  {
   "cell_type": "code",
   "execution_count": null,
   "id": "b700d325",
   "metadata": {},
   "outputs": [],
   "source": []
  },
  {
   "cell_type": "code",
   "execution_count": null,
   "id": "6c5d65c3",
   "metadata": {},
   "outputs": [],
   "source": []
  },
  {
   "cell_type": "code",
   "execution_count": 16,
   "id": "a8944938",
   "metadata": {
    "scrolled": true
   },
   "outputs": [
    {
     "name": "stdout",
     "output_type": "stream",
     "text": [
      "Epoch 1/20\n",
      "960/960 [==============================] - 4s 4ms/step - loss: 0.3625 - accuracy: 0.8945 - mse: 0.0162 - mae: 0.0381 - val_loss: 0.1709 - val_accuracy: 0.9524 - val_mse: 0.0074 - val_mae: 0.0176\n",
      "Epoch 2/20\n",
      "960/960 [==============================] - 3s 3ms/step - loss: 0.1730 - accuracy: 0.9494 - mse: 0.0079 - mae: 0.0184 - val_loss: 0.1258 - val_accuracy: 0.9640 - val_mse: 0.0055 - val_mae: 0.0126\n",
      "Epoch 3/20\n",
      "960/960 [==============================] - 3s 3ms/step - loss: 0.1293 - accuracy: 0.9622 - mse: 0.0059 - mae: 0.0138 - val_loss: 0.1136 - val_accuracy: 0.9655 - val_mse: 0.0052 - val_mae: 0.0112\n",
      "Epoch 4/20\n",
      "960/960 [==============================] - 3s 3ms/step - loss: 0.1031 - accuracy: 0.9694 - mse: 0.0048 - mae: 0.0113 - val_loss: 0.0996 - val_accuracy: 0.9693 - val_mse: 0.0046 - val_mae: 0.0095\n",
      "Epoch 5/20\n",
      "960/960 [==============================] - 3s 3ms/step - loss: 0.0883 - accuracy: 0.9734 - mse: 0.0042 - mae: 0.0096 - val_loss: 0.0905 - val_accuracy: 0.9739 - val_mse: 0.0041 - val_mae: 0.0082\n",
      "Epoch 6/20\n",
      "960/960 [==============================] - 3s 3ms/step - loss: 0.0768 - accuracy: 0.9767 - mse: 0.0036 - mae: 0.0084 - val_loss: 0.0862 - val_accuracy: 0.9744 - val_mse: 0.0039 - val_mae: 0.0077\n",
      "Epoch 7/20\n",
      "960/960 [==============================] - 3s 3ms/step - loss: 0.0655 - accuracy: 0.9799 - mse: 0.0032 - mae: 0.0073 - val_loss: 0.0848 - val_accuracy: 0.9753 - val_mse: 0.0038 - val_mae: 0.0073\n",
      "Epoch 8/20\n",
      "960/960 [==============================] - 3s 3ms/step - loss: 0.0604 - accuracy: 0.9810 - mse: 0.0030 - mae: 0.0068 - val_loss: 0.0800 - val_accuracy: 0.9756 - val_mse: 0.0037 - val_mae: 0.0068\n",
      "Epoch 9/20\n",
      "960/960 [==============================] - 3s 3ms/step - loss: 0.0542 - accuracy: 0.9830 - mse: 0.0027 - mae: 0.0062 - val_loss: 0.0807 - val_accuracy: 0.9773 - val_mse: 0.0035 - val_mae: 0.0062\n",
      "Epoch 10/20\n",
      "960/960 [==============================] - 3s 3ms/step - loss: 0.0486 - accuracy: 0.9846 - mse: 0.0024 - mae: 0.0055 - val_loss: 0.0813 - val_accuracy: 0.9781 - val_mse: 0.0035 - val_mae: 0.0062\n",
      "Epoch 11/20\n",
      "960/960 [==============================] - 3s 3ms/step - loss: 0.0460 - accuracy: 0.9850 - mse: 0.0023 - mae: 0.0053 - val_loss: 0.0805 - val_accuracy: 0.9766 - val_mse: 0.0036 - val_mae: 0.0061\n",
      "Epoch 12/20\n",
      "960/960 [==============================] - 3s 3ms/step - loss: 0.0434 - accuracy: 0.9851 - mse: 0.0022 - mae: 0.0050 - val_loss: 0.0858 - val_accuracy: 0.9764 - val_mse: 0.0037 - val_mae: 0.0061\n",
      "Epoch 13/20\n",
      "960/960 [==============================] - 3s 3ms/step - loss: 0.0391 - accuracy: 0.9871 - mse: 0.0020 - mae: 0.0046 - val_loss: 0.0837 - val_accuracy: 0.9772 - val_mse: 0.0035 - val_mae: 0.0057\n",
      "Epoch 14/20\n",
      "960/960 [==============================] - 3s 3ms/step - loss: 0.0350 - accuracy: 0.9887 - mse: 0.0018 - mae: 0.0041 - val_loss: 0.0860 - val_accuracy: 0.9775 - val_mse: 0.0036 - val_mae: 0.0056\n",
      "Epoch 15/20\n",
      "960/960 [==============================] - 3s 3ms/step - loss: 0.0321 - accuracy: 0.9896 - mse: 0.0016 - mae: 0.0038 - val_loss: 0.0868 - val_accuracy: 0.9769 - val_mse: 0.0037 - val_mae: 0.0058\n",
      "Epoch 16/20\n",
      "960/960 [==============================] - 3s 3ms/step - loss: 0.0306 - accuracy: 0.9896 - mse: 0.0016 - mae: 0.0037 - val_loss: 0.0884 - val_accuracy: 0.9769 - val_mse: 0.0036 - val_mae: 0.0056\n",
      "Epoch 17/20\n",
      "960/960 [==============================] - 3s 3ms/step - loss: 0.0318 - accuracy: 0.9886 - mse: 0.0017 - mae: 0.0037 - val_loss: 0.0860 - val_accuracy: 0.9770 - val_mse: 0.0036 - val_mae: 0.0056\n",
      "Epoch 18/20\n",
      "960/960 [==============================] - 3s 3ms/step - loss: 0.0297 - accuracy: 0.9898 - mse: 0.0015 - mae: 0.0034 - val_loss: 0.0929 - val_accuracy: 0.9768 - val_mse: 0.0037 - val_mae: 0.0056\n",
      "Epoch 19/20\n",
      "960/960 [==============================] - 3s 3ms/step - loss: 0.0267 - accuracy: 0.9911 - mse: 0.0013 - mae: 0.0031 - val_loss: 0.0931 - val_accuracy: 0.9771 - val_mse: 0.0036 - val_mae: 0.0055\n",
      "Epoch 20/20\n",
      "960/960 [==============================] - 3s 3ms/step - loss: 0.0250 - accuracy: 0.9910 - mse: 0.0013 - mae: 0.0030 - val_loss: 0.0881 - val_accuracy: 0.9783 - val_mse: 0.0034 - val_mae: 0.0052\n"
     ]
    }
   ],
   "source": [
    "history, model = training_basic_classifier(X_train,y_train,run_params)"
   ]
  },
  {
   "cell_type": "code",
   "execution_count": null,
   "id": "7355298d",
   "metadata": {},
   "outputs": [],
   "source": []
  },
  {
   "cell_type": "code",
   "execution_count": 17,
   "id": "211f10d5",
   "metadata": {},
   "outputs": [
    {
     "data": {
      "image/png": "[encoded data removed]",
      "text/plain": [
       "<Figure size 640x480 with 1 Axes>"
      ]
     },
     "metadata": {},
     "output_type": "display_data"
    }
   ],
   "source": [
    "run_metrics = get_metrics(history)"
   ]
  },
  {
   "cell_type": "code",
   "execution_count": 18,
   "id": "8fb9e6e3",
   "metadata": {},
   "outputs": [
    {
     "data": {
      "text/plain": [
       "{'loss': [0.3624951243400574,\n",
       "  0.1729845404624939,\n",
       "  0.12926150858402252,\n",
       "  0.103070467710495,\n",
       "  0.08828146010637283,\n",
       "  0.07676457613706589,\n",
       "  0.06549254059791565,\n",
       "  0.060413893312215805,\n",
       "  0.05418788641691208,\n",
       "  0.04861578717827797,\n",
       "  0.04604613780975342,\n",
       "  0.04343978315591812,\n",
       "  0.03913237154483795,\n",
       "  0.034982576966285706,\n",
       "  0.032092273235321045,\n",
       "  0.03061605803668499,\n",
       "  0.031806837767362595,\n",
       "  0.02967389114201069,\n",
       "  0.026654718443751335,\n",
       "  0.025021031498908997],\n",
       " 'val_loss': [0.17088869214057922,\n",
       "  0.1258254498243332,\n",
       "  0.11356128752231598,\n",
       "  0.09957670420408249,\n",
       "  0.09051129966974258,\n",
       "  0.08622577786445618,\n",
       "  0.08483369648456573,\n",
       "  0.07999100536108017,\n",
       "  0.08069252222776413,\n",
       "  0.08134099096059799,\n",
       "  0.08047772198915482,\n",
       "  0.08578387647867203,\n",
       "  0.08373171836137772,\n",
       "  0.08603788167238235,\n",
       "  0.08681710809469223,\n",
       "  0.08840115368366241,\n",
       "  0.08599305897951126,\n",
       "  0.0929129347205162,\n",
       "  0.09310782700777054,\n",
       "  0.08807586878538132],\n",
       " 'accuracy': [0.8944583535194397,\n",
       "  0.9494166374206543,\n",
       "  0.9621875286102295,\n",
       "  0.9693958163261414,\n",
       "  0.973354160785675,\n",
       "  0.9767083525657654,\n",
       "  0.9799374938011169,\n",
       "  0.9810000061988831,\n",
       "  0.9829791784286499,\n",
       "  0.9845625162124634,\n",
       "  0.9850208163261414,\n",
       "  0.9851458072662354,\n",
       "  0.9870833158493042,\n",
       "  0.9887499809265137,\n",
       "  0.9895625114440918,\n",
       "  0.9895625114440918,\n",
       "  0.9885625243186951,\n",
       "  0.9897708296775818,\n",
       "  0.9911458492279053,\n",
       "  0.9909999966621399],\n",
       " 'val_accuracy': [0.9524166584014893,\n",
       "  0.9639999866485596,\n",
       "  0.965499997138977,\n",
       "  0.9692500233650208,\n",
       "  0.9739166498184204,\n",
       "  0.9744166731834412,\n",
       "  0.9753333330154419,\n",
       "  0.9755833148956299,\n",
       "  0.9773333072662354,\n",
       "  0.9780833125114441,\n",
       "  0.9765833616256714,\n",
       "  0.9764166474342346,\n",
       "  0.9771666526794434,\n",
       "  0.9775000214576721,\n",
       "  0.9769166707992554,\n",
       "  0.9769166707992554,\n",
       "  0.9769999980926514,\n",
       "  0.9767500162124634,\n",
       "  0.9770833253860474,\n",
       "  0.9783333539962769],\n",
       " 'mse': [0.01616385579109192,\n",
       "  0.007853489369153976,\n",
       "  0.005879229865968227,\n",
       "  0.004816570784896612,\n",
       "  0.004172183573246002,\n",
       "  0.003610221901908517,\n",
       "  0.00315460073761642,\n",
       "  0.0029590956401079893,\n",
       "  0.002658411394804716,\n",
       "  0.0023895553313195705,\n",
       "  0.002306092530488968,\n",
       "  0.0022069690749049187,\n",
       "  0.001984579022973776,\n",
       "  0.0017727910308167338,\n",
       "  0.0016229867469519377,\n",
       "  0.0016006625955924392,\n",
       "  0.0016889118123799562,\n",
       "  0.001546170562505722,\n",
       "  0.0013473593862727284,\n",
       "  0.0013402431504800916],\n",
       " 'val_mse': [0.007382434792816639,\n",
       "  0.005542322993278503,\n",
       "  0.005156169645488262,\n",
       "  0.00457747420296073,\n",
       "  0.004089722875505686,\n",
       "  0.003889456856995821,\n",
       "  0.0038207117468118668,\n",
       "  0.003662664210423827,\n",
       "  0.0035013901069760323,\n",
       "  0.00352522823959589,\n",
       "  0.003564644604921341,\n",
       "  0.0037297108210623264,\n",
       "  0.0035416216123849154,\n",
       "  0.0035977622028440237,\n",
       "  0.0036556243430823088,\n",
       "  0.003568243235349655,\n",
       "  0.003630531718954444,\n",
       "  0.0036614765413105488,\n",
       "  0.0035987403243780136,\n",
       "  0.00344691495411098],\n",
       " 'mae': [0.03813077509403229,\n",
       "  0.01835665851831436,\n",
       "  0.013777142390608788,\n",
       "  0.011281723156571388,\n",
       "  0.009634429588913918,\n",
       "  0.008350667543709278,\n",
       "  0.0073440042324364185,\n",
       "  0.006835177540779114,\n",
       "  0.006190539803355932,\n",
       "  0.005510641261935234,\n",
       "  0.0052885934710502625,\n",
       "  0.005022792145609856,\n",
       "  0.0045664082281291485,\n",
       "  0.0041451649740338326,\n",
       "  0.003799033584073186,\n",
       "  0.003661175724118948,\n",
       "  0.0037345641758292913,\n",
       "  0.0034297548700124025,\n",
       "  0.0031155641190707684,\n",
       "  0.003025947604328394],\n",
       " 'val_mae': [0.01761750504374504,\n",
       "  0.012624907307326794,\n",
       "  0.011174870654940605,\n",
       "  0.009486011229455471,\n",
       "  0.008190024644136429,\n",
       "  0.007710163947194815,\n",
       "  0.007262784522026777,\n",
       "  0.006821505259722471,\n",
       "  0.006249556317925453,\n",
       "  0.006153378635644913,\n",
       "  0.006097045727074146,\n",
       "  0.006062456872314215,\n",
       "  0.005682636052370071,\n",
       "  0.005632160697132349,\n",
       "  0.005826673936098814,\n",
       "  0.005575770512223244,\n",
       "  0.0055566756054759026,\n",
       "  0.005612827837467194,\n",
       "  0.005459888372570276,\n",
       "  0.005198409780859947]}"
      ]
     },
     "execution_count": 18,
     "metadata": {},
     "output_type": "execute_result"
    }
   ],
   "source": [
    "# import numpy as np\n",
    "# y_pred = predict_on_test_data(model,X_test)\n",
    "# #print(y_pred)\n",
    "# y_=[]\n",
    "# for i in y_pred:\n",
    "#     p = np.argmax(i)\n",
    "#     y_.append(p)\n",
    "\n",
    "    \n",
    "# for i in y_:\n",
    "#     print(i)\n",
    "#     plt.imshow(X_test[i])    \n",
    "#     print(\"#\"*10)\n",
    "run_metrics"
   ]
  },
  {
   "cell_type": "code",
   "execution_count": 19,
   "id": "e95bd27b",
   "metadata": {},
   "outputs": [
    {
     "name": "stdout",
     "output_type": "stream",
     "text": [
      "Model: \"sequential\"\n",
      "_________________________________________________________________\n",
      " Layer (type)                Output Shape              Param #   \n",
      "=================================================================\n",
      " flatten (Flatten)           (None, 784)               0         \n",
      "                                                                 \n",
      " dense (Dense)               (None, 128)               100480    \n",
      "                                                                 \n",
      " dropout (Dropout)           (None, 128)               0         \n",
      "                                                                 \n",
      " dense_1 (Dense)             (None, 10)                1290      \n",
      "                                                                 \n",
      " y_pred (Lambda)             (None,)                   0         \n",
      "                                                                 \n",
      "=================================================================\n",
      "Total params: 101,770\n",
      "Trainable params: 101,770\n",
      "Non-trainable params: 0\n",
      "_________________________________________________________________\n"
     ]
    }
   ],
   "source": [
    "model.summary()"
   ]
  },
  {
   "cell_type": "code",
   "execution_count": null,
   "id": "66fbc976",
   "metadata": {},
   "outputs": [],
   "source": []
  },
  {
   "cell_type": "code",
   "execution_count": 20,
   "id": "9344f241",
   "metadata": {},
   "outputs": [],
   "source": [
    "###MLFLOW PART\n",
    "\n",
    "experiment_name='tensorflowExperiment'\n",
    "# run_name='trainingRun'\n",
    "run_name='evaluationRun'\n",
    "mae_path='Mean Absolute error.png'\n",
    "mse_path='Mean Squared Error.png'\n",
    "loss_path='loss.png'\n",
    "accuracy_path='Accuracy.png'\n",
    "input_path='Inputdata'"
   ]
  },
  {
   "cell_type": "code",
   "execution_count": null,
   "id": "5a7d1415",
   "metadata": {},
   "outputs": [],
   "source": []
  },
  {
   "cell_type": "code",
   "execution_count": 21,
   "id": "871f66c8",
   "metadata": {},
   "outputs": [],
   "source": [
    "# def model_evaluation(model,df,experiment_name,run_name,model_info):\n",
    "#     logging.getLogger(\"mlflow\").setLevel(logging.DEBUG)\n",
    "#     #mlflow evaluation\n",
    "#     mlflow.set_tracking_uri(\"http://localhost:5000\")\n",
    "#     mlflow.set_experiment(experiment_name)\n",
    "    \n",
    "#     with mlflow.start_run(run_name=run_name) as run:\n",
    "#         #model_info = mlflow.tensorflow.log_model(model, \"model\")\n",
    "#         result = mlflow.evaluate(\n",
    "#            model_info.model_uri,\n",
    "#            df,\n",
    "#            targets=\"target\",\n",
    "#            model_type=\"classifier\",\n",
    "#            #dataset_name=\"adult\",\n",
    "#             #evaluator_config={'explainability_algorithm':'',},\n",
    "#            evaluators=[\"default\"],\n",
    "#         )\n",
    "        \n",
    "#     return result"
   ]
  },
  {
   "cell_type": "code",
   "execution_count": 24,
   "id": "ab1443d6",
   "metadata": {},
   "outputs": [],
   "source": [
    "def evaluationRun(experiment_name,run_name, run_metrics,model,df, input_path = None ,mae_path = None, mse_path = None,loss_path = None,\n",
    "                      accuracy_path = None, run_params=None):\n",
    "    import mlflow\n",
    "    mlflow.set_tracking_uri(\"http://localhost:5000\") #uncomment this line if you want to use any database like sqlite as backend storage for model\n",
    "    mlflow.set_experiment(experiment_name)\n",
    "    \n",
    "    with mlflow.start_run(run_name=run_name):\n",
    "        \n",
    "        if not run_params == None:\n",
    "            for param in run_params:\n",
    "                mlflow.log_param(param, str(run_params[param]))\n",
    "            \n",
    "        for metric in run_metrics:\n",
    "            mlflow.log_metric(metric, run_metrics[metric][-1])#choosing the last epoc value for each metric\n",
    "            \n",
    "        model_info=mlflow.tensorflow.log_model(model, \"model\")\n",
    "        \n",
    "        if not mae_path == None:\n",
    "            mlflow.log_artifact(mae_path, 'Mean Absolute Error')\n",
    "            \n",
    "        if not mse_path == None:\n",
    "            mlflow.log_artifact(mse_path, \"Mean Square Error\")\n",
    "            \n",
    "        if not loss_path == None:\n",
    "            mlflow.log_artifact(loss_path, \"Loss\")\n",
    "            \n",
    "        if not accuracy_path == None:\n",
    "            mlflow.log_artifact(accuracy_path, \"Accuracy\")\n",
    "        if not input_path == None:\n",
    "            mlflow.log_artifact(input_path)\n",
    "#         mlflow.set_tag(\"tag1\", \"Random Forest\")\n",
    "#         mlflow.set_tags({\"tag2\":\"Randomized Search CV\", \"tag3\":\"Production\"})\n",
    "        result = mlflow.evaluate(\n",
    "           model_info.model_uri,\n",
    "           df,\n",
    "           targets=\"target\",\n",
    "           model_type=\"classifier\",\n",
    "           #dataset_name=\"adult\",\n",
    "            #evaluator_config={'explainability_algorithm':'',},\n",
    "           evaluators=[\"default\"],\n",
    "        )  \n",
    "    print('Run - %s is logged to Experiment - %s' %(run_name, experiment_name))\n",
    "    return result"
   ]
  },
  {
   "cell_type": "code",
   "execution_count": 25,
   "id": "f1179e10",
   "metadata": {},
   "outputs": [
    {
     "name": "stderr",
     "output_type": "stream",
     "text": [
      "2023/01/25 12:03:48 WARNING mlflow.tensorflow: You are saving a TensorFlow Core model or Keras model without a signature. Inference with mlflow.pyfunc.spark_udf() will not work unless the model's pyfunc representation accepts pandas DataFrames as inference inputs.\n",
      "WARNING:absl:Found untraced functions such as _update_step_xla while saving (showing 1 of 1). These functions will not be directly callable after loading.\n"
     ]
    },
    {
     "name": "stdout",
     "output_type": "stream",
     "text": [
      "INFO:tensorflow:Assets written to: C:\\Users\\Admin\\AppData\\Local\\Temp\\tmpfz0rcdyh\\model\\data\\model\\assets\n"
     ]
    },
    {
     "name": "stderr",
     "output_type": "stream",
     "text": [
      "INFO:tensorflow:Assets written to: C:\\Users\\Admin\\AppData\\Local\\Temp\\tmpfz0rcdyh\\model\\data\\model\\assets\n",
      "2023/01/25 12:03:55 WARNING mlflow.utils.environment: Encountered an unexpected error while inferring pip requirements (model URI: C:\\Users\\Admin\\AppData\\Local\\Temp\\tmpfz0rcdyh\\model, flavor: tensorflow), fall back to return ['tensorflow==2.11.0']. Set logging level to DEBUG to see the full traceback.\n",
      "C:\\Users\\Admin\\miniconda3\\envs\\modelenv\\lib\\site-packages\\_distutils_hack\\__init__.py:33: UserWarning: Setuptools is replacing distutils.\n",
      "  warnings.warn(\"Setuptools is replacing distutils.\")\n",
      "C:\\Users\\Admin\\miniconda3\\envs\\modelenv\\lib\\site-packages\\keras\\backend.py:451: UserWarning: `tf.keras.backend.set_learning_phase` is deprecated and will be removed after 2020-10-11. To update it, simply pass a True/False value to the `training` argument of the `__call__` method of your layer or model.\n",
      "  warnings.warn(\n",
      "2023/01/25 12:03:58 INFO mlflow.models.evaluation.base: Evaluating the model with the default evaluator.\n"
     ]
    },
    {
     "name": "stdout",
     "output_type": "stream",
     "text": [
      "313/313 [==============================] - 1s 2ms/step\n"
     ]
    },
    {
     "name": "stderr",
     "output_type": "stream",
     "text": [
      "2023/01/25 12:03:59 INFO mlflow.models.evaluation.default_evaluator: The evaluation dataset is inferred as multiclass dataset, number of classes is inferred as 10\n",
      "2023/01/25 12:04:05 INFO mlflow.models.evaluation.default_evaluator: Shap explainer Permutation is used.\n",
      "2023/01/25 12:04:05 WARNING mlflow.models.evaluation.default_evaluator: Shap evaluation failed. Reason: ValueError('max_evals=500 is too low for the Permutation explainer, it must be at least 2 * num_features + 1 = 1029!'). Set logging level to DEBUG to see the full traceback.\n"
     ]
    },
    {
     "name": "stdout",
     "output_type": "stream",
     "text": [
      "Run - evaluationRun is logged to Experiment - tensorflowExperiment\n"
     ]
    },
    {
     "data": {
      "text/plain": [
       "<Figure size 640x480 with 0 Axes>"
      ]
     },
     "metadata": {},
     "output_type": "display_data"
    }
   ],
   "source": [
    "result = evaluationRun(experiment_name=experiment_name,run_metrics=get_metrics(history),run_name=run_name,model=model,df=df,mae_path=mae_path,mse_path=mse_path,loss_path=loss_path,accuracy_path=accuracy_path,run_params=run_params,input_path=input_path)"
   ]
  },
  {
   "cell_type": "code",
   "execution_count": 26,
   "id": "c9f17bf0",
   "metadata": {},
   "outputs": [],
   "source": [
    "# #Evaluation run\n",
    "# run_name='evaluationRun'\n",
    "# result = model_evaluation(model,df,experiment_name,run_name,model_info)\n"
   ]
  },
  {
   "cell_type": "code",
   "execution_count": null,
   "id": "af33766c",
   "metadata": {},
   "outputs": [],
   "source": [
    "print(result.metrics)"
   ]
  },
  {
   "cell_type": "code",
   "execution_count": null,
   "id": "c97e04bb",
   "metadata": {},
   "outputs": [],
   "source": [
    "print(result.artifacts)"
   ]
  },
  {
   "cell_type": "code",
   "execution_count": null,
   "id": "6f20ffd1",
   "metadata": {},
   "outputs": [],
   "source": [
    "y_pred=predict_on_test_data(model,X_test)"
   ]
  },
  {
   "cell_type": "code",
   "execution_count": null,
   "id": "d3b6e975",
   "metadata": {},
   "outputs": [],
   "source": [
    "y_pred"
   ]
  },
  {
   "cell_type": "code",
   "execution_count": null,
   "id": "aa4a1ecb",
   "metadata": {},
   "outputs": [],
   "source": []
  },
  {
   "cell_type": "code",
   "execution_count": null,
   "id": "338793e5",
   "metadata": {},
   "outputs": [],
   "source": []
  },
  {
   "cell_type": "code",
   "execution_count": null,
   "id": "66fa909d",
   "metadata": {},
   "outputs": [],
   "source": [
    "import numpy as np\n",
    "# ytest= y_test\n",
    "# y_test=[]\n",
    "# for i in ytest:\n",
    "#     y_test.append(i)\n",
    "    \n",
    "\n",
    "# print(y_test)\n",
    "# print(y_pred)\n",
    "y_=[]\n",
    "for i in y_pred:\n",
    "    p = np.argmax(i)\n",
    "    y_.append(p)\n",
    "    \n",
    "# print(len(y_test))\n",
    "# #print(shape(y_test))\n",
    "# print(len(y_pred))  \n",
    "#wrong=0\n",
    "indicesplus=[]\n",
    "for i in range(len(y_pred)):\n",
    "    if y_test[i]!=y_[i]:\n",
    "        lol=[]\n",
    "        lol.append(i)\n",
    "        lol.append(y_test[i])\n",
    "        lol.append(y_[i])\n",
    "#         print(y_test[i])\n",
    "#         print(y_[i])\n",
    "#         print(\"&&& \"*10)\n",
    "        indicesplus.append(lol)\n",
    "\n",
    "\n",
    "print(\"wrong answers:\",indicesplus)\n",
    "\n",
    "#plt.imshow(X_test[8])"
   ]
  },
  {
   "cell_type": "code",
   "execution_count": null,
   "id": "9e7059f5",
   "metadata": {},
   "outputs": [],
   "source": [
    "# single = X_test[74]\n",
    "# print(X_test.shape)"
   ]
  },
  {
   "cell_type": "code",
   "execution_count": null,
   "id": "afc6e036",
   "metadata": {},
   "outputs": [],
   "source": [
    "len(indicesplus)/10000 - 1"
   ]
  },
  {
   "cell_type": "code",
   "execution_count": null,
   "id": "7b054903",
   "metadata": {},
   "outputs": [],
   "source": [
    "# #predict_on_test_data(model,single)\n",
    "# model.predict(single)"
   ]
  }
 ],
 "metadata": {
  "kernelspec": {
   "display_name": "modelenv",
   "language": "python",
   "name": "modelenv"
  },
  "language_info": {
   "codemirror_mode": {
    "name": "ipython",
    "version": 3
   },
   "file_extension": ".py",
   "mimetype": "text/x-python",
   "name": "python",
   "nbconvert_exporter": "python",
   "pygments_lexer": "ipython3",
   "version": "3.10.8"
  }
 },
 "nbformat": 4,
 "nbformat_minor": 5
}
