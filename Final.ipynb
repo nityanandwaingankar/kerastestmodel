{
 "cells": [
  {
   "cell_type": "code",
   "execution_count": 1,
   "id": "f73514fd",
   "metadata": {},
   "outputs": [
    {
     "name": "stdout",
     "output_type": "stream",
     "text": [
      "TensorFlow version: 2.11.0\n"
     ]
    }
   ],
   "source": [
    "import tensorflow as tf\n",
    "import mlflow\n",
    "import matplotlib.pyplot as plt\n",
    "\n",
    "print(\"TensorFlow version:\", tf.__version__)"
   ]
  },
  {
   "cell_type": "code",
   "execution_count": 2,
   "id": "6e4174f4",
   "metadata": {},
   "outputs": [],
   "source": [
    "# #download the dataset\n",
    "# mnist = tf.keras.datasets.mnist\n",
    "# #import data from datasets\n",
    "\n",
    "# (X_train, y_train), (X_test, y_test) = mnist.load_data()\n",
    "\n",
    "# #converting values to 0<val<1\n",
    "# X_train, X_test = X_train / 255.0, X_test / 255.0\n",
    "# #if we dont normalize, it produces a bias\n",
    "\n",
    "# ##WHAT is mnist dataset??\n",
    "# #28x28 pixel images "
   ]
  },
  {
   "cell_type": "code",
   "execution_count": 3,
   "id": "174162b2",
   "metadata": {},
   "outputs": [],
   "source": [
    "from numpy import save, load"
   ]
  },
  {
   "cell_type": "code",
   "execution_count": 4,
   "id": "95de2e09",
   "metadata": {},
   "outputs": [],
   "source": [
    "# save('Inputdata/X_train.npy', X_train)\n",
    "# save('Inputdata/y_train.npy', y_train)\n",
    "# save('Inputdata/X_test.npy', X_test)\n",
    "# save('Inputdata/y_test.npy', y_test)"
   ]
  },
  {
   "cell_type": "code",
   "execution_count": 5,
   "id": "6f2591c3",
   "metadata": {},
   "outputs": [],
   "source": [
    "X_train = load('Inputdata/X_train.npy')\n",
    "y_train = load('Inputdata/y_train.npy')\n",
    "X_test = load('Inputdata/X_test.npy')\n",
    "y_test = load('Inputdata/y_test.npy')"
   ]
  },
  {
   "cell_type": "code",
   "execution_count": 30,
   "id": "ffa2c119",
   "metadata": {},
   "outputs": [],
   "source": [
    "input_data = {'X_train':'Inputdata/X_train.npy','y_train':'Inputdata/y_train.npy','X_test':'Inputdata/X_test.npy','y_test':'Inputdata/y_test.npy'}"
   ]
  },
  {
   "cell_type": "code",
   "execution_count": 24,
   "id": "a24988da",
   "metadata": {},
   "outputs": [
    {
     "data": {
      "text/plain": [
       "<matplotlib.image.AxesImage at 0x1c6cb32b220>"
      ]
     },
     "execution_count": 24,
     "metadata": {},
     "output_type": "execute_result"
    },
    {
     "data": {
      "image/png": "[encoded data removed]",
      "text/plain": [
       "<Figure size 640x480 with 1 Axes>"
      ]
     },
     "metadata": {},
     "output_type": "display_data"
    }
   ],
   "source": [
    "plt.imshow(X_test[8])"
   ]
  },
  {
   "cell_type": "code",
   "execution_count": null,
   "id": "9d1561cf",
   "metadata": {},
   "outputs": [],
   "source": []
  },
  {
   "cell_type": "code",
   "execution_count": 6,
   "id": "a97f69d6",
   "metadata": {},
   "outputs": [],
   "source": [
    "run_params={'loss':'sparse_categorical_crossentropy','optimizer':'adam','epochs':3}\n",
    "\n",
    "# loss: poisson, kl_divergence, mean_squared_error, sparse_categorical_crossentropy\n",
    "# optimizer: adam, Adadelta, SGD\n",
    "# epoch: 3, 5, 7, 12"
   ]
  },
  {
   "cell_type": "code",
   "execution_count": 7,
   "id": "d9cc32a3",
   "metadata": {},
   "outputs": [],
   "source": [
    "def training_basic_classifier(X_train,y_train,run_params):\n",
    "    ##Build the machine learning model\n",
    "    model = tf.keras.models.Sequential([\n",
    "      tf.keras.layers.Flatten(input_shape=(28, 28)),\n",
    "      tf.keras.layers.Dense(128, activation='relu'),\n",
    "      tf.keras.layers.Dropout(0.2),\n",
    "      tf.keras.layers.Dense(10, activation='softmax')\n",
    "    ])  \n",
    "    \n",
    "#     loss_fn = tf.keras.losses.SparseCategoricalCrossentropy(from_logits=True)\n",
    "#     loss_fn(y_train[:1], predictions).numpy()\n",
    "    \n",
    "    ##Use the `Model.fit` method to adjust your model parameters and minimize the loss: \n",
    "    model.compile(optimizer=run_params['optimizer'],\n",
    "              loss=run_params['loss'],\n",
    "              metrics=['accuracy','mse','mae'])\n",
    "    history=model.fit(X_train,y_train, epochs=run_params['epochs'], validation_split=0.2)\n",
    "    return  history, model\n",
    "\n",
    "##WHAT is loss function?"
   ]
  },
  {
   "cell_type": "code",
   "execution_count": 8,
   "id": "097e83a7",
   "metadata": {},
   "outputs": [],
   "source": [
    "def predict_on_test_data(model,X_test):\n",
    "    y_pred = model.predict(X_test)\n",
    "    return y_pred"
   ]
  },
  {
   "cell_type": "code",
   "execution_count": 9,
   "id": "af595cf2",
   "metadata": {},
   "outputs": [],
   "source": [
    "def get_metrics(history):\n",
    "    plt.plot(history.history['loss'], label='train')\n",
    "    plt.plot(history.history['val_loss'], label = 'val')\n",
    "    plt.ylabel('loss')\n",
    "    plt.xlabel('Epochs')\n",
    "    plt.legend()\n",
    "    #plt.show()\n",
    "    plt.savefig('loss.png')\n",
    "    plt.clf()\n",
    "    \n",
    "    plt.plot(history.history['accuracy'], label='train')\n",
    "    plt.plot(history.history['val_accuracy'], label='val')\n",
    "    plt.ylabel('Accuracy')\n",
    "    plt.xlabel('Epochs')\n",
    "    plt.legend()\n",
    "    #plt.show()\n",
    "    plt.savefig('Accuracy.png')\n",
    "    plt.clf()\n",
    "    \n",
    "    plt.plot(history.history['mse'], label='train')\n",
    "    plt.plot(history.history['val_mse'], label='val')\n",
    "    plt.ylabel('Mean Squared Error')\n",
    "    plt.xlabel('Epochs')\n",
    "    plt.legend()\n",
    "    #plt.show()\n",
    "    plt.savefig('Mean Squared Error.png')\n",
    "    plt.clf()\n",
    "    \n",
    "    plt.plot(history.history['mae'],'ro', label='train')\n",
    "    plt.plot(history.history['val_mae'],'ro', label='val')\n",
    "    plt.ylabel('Mean Absolute error')\n",
    "    plt.xlabel('Epochs')\n",
    "    plt.legend()\n",
    "    #plt.show()\n",
    "    plt.savefig('Mean Absolute error.png')\n",
    "    return {'loss':history.history['loss'],'val_loss':history.history['val_loss'],'accuracy':history.history['accuracy'],'val_accuracy':history.history['val_accuracy'],\n",
    "            'mse':history.history['mse'],'val_mse':history.history['val_mse'],'mae':history.history['mae'],'val_mae':history.history['val_mae']}\n",
    "    "
   ]
  },
  {
   "cell_type": "code",
   "execution_count": null,
   "id": "b700d325",
   "metadata": {},
   "outputs": [],
   "source": []
  },
  {
   "cell_type": "code",
   "execution_count": null,
   "id": "6c5d65c3",
   "metadata": {},
   "outputs": [],
   "source": []
  },
  {
   "cell_type": "code",
   "execution_count": 10,
   "id": "a8944938",
   "metadata": {
    "scrolled": true
   },
   "outputs": [
    {
     "name": "stdout",
     "output_type": "stream",
     "text": [
      "Epoch 1/3\n",
      "1500/1500 [==============================] - 6s 3ms/step - loss: 0.3236 - accuracy: 0.9074 - mse: 27.3617 - mae: 4.3699 - val_loss: 0.1632 - val_accuracy: 0.9551 - val_mse: 27.4383 - val_mae: 4.3890\n",
      "Epoch 2/3\n",
      "1500/1500 [==============================] - 4s 3ms/step - loss: 0.1567 - accuracy: 0.9529 - mse: 27.3717 - mae: 4.3699 - val_loss: 0.1214 - val_accuracy: 0.9642 - val_mse: 27.4415 - val_mae: 4.3890\n",
      "Epoch 3/3\n",
      "1500/1500 [==============================] - 4s 3ms/step - loss: 0.1165 - accuracy: 0.9645 - mse: 27.3740 - mae: 4.3699 - val_loss: 0.1019 - val_accuracy: 0.9717 - val_mse: 27.4431 - val_mae: 4.3890\n"
     ]
    }
   ],
   "source": [
    "history, model = training_basic_classifier(X_train,y_train,run_params)"
   ]
  },
  {
   "cell_type": "code",
   "execution_count": null,
   "id": "7355298d",
   "metadata": {},
   "outputs": [],
   "source": []
  },
  {
   "cell_type": "code",
   "execution_count": 11,
   "id": "211f10d5",
   "metadata": {},
   "outputs": [
    {
     "data": {
      "image/png": "[encoded data removed]",
      "text/plain": [
       "<Figure size 640x480 with 1 Axes>"
      ]
     },
     "metadata": {},
     "output_type": "display_data"
    }
   ],
   "source": [
    "run_metrics = get_metrics(history)"
   ]
  },
  {
   "cell_type": "code",
   "execution_count": 12,
   "id": "8fb9e6e3",
   "metadata": {},
   "outputs": [],
   "source": [
    "# import numpy as np\n",
    "# y_pred = predict_on_test_data(model,X_test)\n",
    "# #print(y_pred)\n",
    "# y_=[]\n",
    "# for i in y_pred:\n",
    "#     p = np.argmax(i)\n",
    "#     y_.append(p)\n",
    "\n",
    "    \n",
    "# for i in y_:\n",
    "#     print(i)\n",
    "#     plt.imshow(X_test[i])    \n",
    "#     print(\"#\"*10)\n"
   ]
  },
  {
   "cell_type": "code",
   "execution_count": 13,
   "id": "e95bd27b",
   "metadata": {},
   "outputs": [
    {
     "name": "stdout",
     "output_type": "stream",
     "text": [
      "Model: \"sequential\"\n",
      "_________________________________________________________________\n",
      " Layer (type)                Output Shape              Param #   \n",
      "=================================================================\n",
      " flatten (Flatten)           (None, 784)               0         \n",
      "                                                                 \n",
      " dense (Dense)               (None, 128)               100480    \n",
      "                                                                 \n",
      " dropout (Dropout)           (None, 128)               0         \n",
      "                                                                 \n",
      " dense_1 (Dense)             (None, 10)                1290      \n",
      "                                                                 \n",
      "=================================================================\n",
      "Total params: 101,770\n",
      "Trainable params: 101,770\n",
      "Non-trainable params: 0\n",
      "_________________________________________________________________\n"
     ]
    }
   ],
   "source": [
    "model.summary()"
   ]
  },
  {
   "cell_type": "code",
   "execution_count": null,
   "id": "66fbc976",
   "metadata": {},
   "outputs": [],
   "source": []
  },
  {
   "cell_type": "code",
   "execution_count": 37,
   "id": "9344f241",
   "metadata": {},
   "outputs": [],
   "source": [
    "###MLFLOW PART\n",
    "\n",
    "experiment_name='tensorflowExperiment'\n",
    "run_name='tensorflowRun'\n",
    "mae_path='Mean Absolute error.png'\n",
    "mse_path='Mean Squared Error.png'\n",
    "loss_path='loss.png'\n",
    "accuracy_path='Accuracy.png'\n",
    "input_path='Inputdata'"
   ]
  },
  {
   "cell_type": "code",
   "execution_count": null,
   "id": "5a7d1415",
   "metadata": {},
   "outputs": [],
   "source": []
  },
  {
   "cell_type": "code",
   "execution_count": null,
   "id": "871f66c8",
   "metadata": {},
   "outputs": [],
   "source": []
  },
  {
   "cell_type": "code",
   "execution_count": 40,
   "id": "ab1443d6",
   "metadata": {},
   "outputs": [],
   "source": [
    "def create_experiment(experiment_name,run_name, run_metrics,model, input_path = None ,mae_path = None, mse_path = None,loss_path = None,\n",
    "                      accuracy_path = None, run_params=None):\n",
    "    import mlflow\n",
    "    mlflow.set_tracking_uri(\"http://localhost:5000\") #uncomment this line if you want to use any database like sqlite as backend storage for model\n",
    "    mlflow.set_experiment(experiment_name)\n",
    "    \n",
    "    with mlflow.start_run(run_name=run_name):\n",
    "        \n",
    "        if not run_params == None:\n",
    "            for param in run_params:\n",
    "                mlflow.log_param(param, str(run_params[param]))\n",
    "            \n",
    "        for metric in run_metrics:\n",
    "            mlflow.log_metric(metric, run_metrics[metric][-1])#choosing the last epoc value for each metric\n",
    "            \n",
    "        mlflow.tensorflow.log_model(model, \"model\")\n",
    "        \n",
    "        if not mae_path == None:\n",
    "            mlflow.log_artifact(mae_path, 'Mean Absolute Error')\n",
    "            \n",
    "        if not mse_path == None:\n",
    "            mlflow.log_artifact(mse_path, \"Mean Square Error\")\n",
    "            \n",
    "        if not loss_path == None:\n",
    "            mlflow.log_artifact(loss_path, \"Loss\")\n",
    "            \n",
    "        if not accuracy_path == None:\n",
    "            mlflow.log_artifact(accuracy_path, \"Accuracy\")\n",
    "        if not input_path == None:\n",
    "            mlflow.log_artifact(input_path)\n",
    "#         mlflow.set_tag(\"tag1\", \"Random Forest\")\n",
    "#         mlflow.set_tags({\"tag2\":\"Randomized Search CV\", \"tag3\":\"Production\"})\n",
    "            \n",
    "    print('Run - %s is logged to Experiment - %s' %(run_name, experiment_name))"
   ]
  },
  {
   "cell_type": "code",
   "execution_count": 41,
   "id": "f1179e10",
   "metadata": {},
   "outputs": [
    {
     "name": "stderr",
     "output_type": "stream",
     "text": [
      "2023/01/23 13:49:49 WARNING mlflow.tensorflow: You are saving a TensorFlow Core model or Keras model without a signature. Inference with mlflow.pyfunc.spark_udf() will not work unless the model's pyfunc representation accepts pandas DataFrames as inference inputs.\n",
      "WARNING:absl:Found untraced functions such as _update_step_xla while saving (showing 1 of 1). These functions will not be directly callable after loading.\n"
     ]
    },
    {
     "name": "stdout",
     "output_type": "stream",
     "text": [
      "INFO:tensorflow:Assets written to: C:\\Users\\Admin\\AppData\\Local\\Temp\\tmpohkckx4e\\model\\data\\model\\assets\n"
     ]
    },
    {
     "name": "stderr",
     "output_type": "stream",
     "text": [
      "INFO:tensorflow:Assets written to: C:\\Users\\Admin\\AppData\\Local\\Temp\\tmpohkckx4e\\model\\data\\model\\assets\n"
     ]
    },
    {
     "name": "stdout",
     "output_type": "stream",
     "text": [
      "Run - tensorflowRun is logged to Experiment - tensorflowExperiment\n"
     ]
    }
   ],
   "source": [
    "create_experiment(experiment_name=experiment_name,run_metrics=run_metrics,run_name=run_name,model=model,mae_path=mae_path,mse_path=mse_path,loss_path=loss_path,accuracy_path=accuracy_path,run_params=run_params,input_path=input_path)\n"
   ]
  },
  {
   "cell_type": "code",
   "execution_count": null,
   "id": "c9f17bf0",
   "metadata": {},
   "outputs": [],
   "source": []
  },
  {
   "cell_type": "code",
   "execution_count": null,
   "id": "af33766c",
   "metadata": {},
   "outputs": [],
   "source": []
  },
  {
   "cell_type": "code",
   "execution_count": null,
   "id": "c97e04bb",
   "metadata": {},
   "outputs": [],
   "source": []
  },
  {
   "cell_type": "code",
   "execution_count": 17,
   "id": "6f20ffd1",
   "metadata": {},
   "outputs": [
    {
     "name": "stdout",
     "output_type": "stream",
     "text": [
      "313/313 [==============================] - 1s 1ms/step\n"
     ]
    }
   ],
   "source": [
    "y_pred=predict_on_test_data(model,X_test)"
   ]
  },
  {
   "cell_type": "code",
   "execution_count": 18,
   "id": "66fa909d",
   "metadata": {},
   "outputs": [
    {
     "name": "stdout",
     "output_type": "stream",
     "text": [
      "wrong answers: [[8, 5, 6], [233, 8, 7], [247, 4, 2], [259, 6, 0], [321, 2, 7], [340, 5, 3], [381, 3, 7], [445, 6, 0], [495, 8, 2], [531, 3, 2], [582, 8, 2], [591, 8, 3], [610, 4, 2], [684, 7, 2], [691, 8, 4], [707, 4, 9], [717, 0, 6], [740, 4, 9], [810, 7, 2], [844, 8, 7], [882, 9, 7], [924, 2, 7], [947, 8, 9], [950, 7, 2], [951, 5, 4], [956, 1, 2], [962, 9, 7], [965, 6, 0], [1014, 6, 5], [1032, 5, 8], [1039, 7, 2], [1044, 6, 8], [1107, 9, 3], [1112, 4, 6], [1181, 6, 1], [1182, 6, 8], [1194, 7, 9], [1206, 7, 2], [1226, 7, 2], [1232, 9, 4], [1242, 4, 9], [1247, 9, 3], [1260, 7, 1], [1283, 7, 2], [1289, 5, 9], [1299, 5, 7], [1319, 8, 3], [1325, 8, 2], [1326, 7, 2], [1364, 8, 2], [1393, 5, 3], [1425, 8, 4], [1500, 7, 1], [1522, 7, 9], [1527, 1, 6], [1530, 8, 7], [1549, 4, 6], [1553, 9, 3], [1609, 2, 6], [1621, 0, 6], [1681, 3, 7], [1709, 9, 3], [1717, 8, 0], [1751, 4, 2], [1754, 7, 2], [1790, 2, 7], [1828, 3, 7], [1843, 0, 2], [1850, 8, 3], [1878, 8, 2], [1901, 9, 4], [1938, 4, 6], [1941, 7, 2], [1952, 9, 3], [1955, 8, 2], [1973, 8, 3], [2016, 7, 2], [2035, 5, 3], [2043, 4, 8], [2053, 4, 9], [2070, 7, 9], [2093, 8, 1], [2098, 2, 0], [2109, 3, 7], [2118, 6, 0], [2129, 9, 2], [2130, 4, 9], [2135, 6, 1], [2182, 1, 2], [2189, 9, 1], [2266, 1, 6], [2272, 8, 0], [2293, 9, 6], [2325, 7, 2], [2329, 0, 2], [2380, 9, 0], [2387, 9, 1], [2406, 9, 1], [2422, 6, 4], [2447, 4, 9], [2454, 6, 5], [2488, 2, 4], [2526, 5, 3], [2560, 3, 2], [2598, 8, 2], [2604, 5, 3], [2607, 7, 1], [2648, 9, 0], [2654, 6, 1], [2730, 7, 4], [2760, 9, 4], [2810, 5, 3], [2877, 4, 7], [2896, 8, 0], [2921, 3, 2], [2927, 3, 2], [2939, 9, 7], [2945, 3, 9], [2953, 3, 5], [2995, 6, 8], [3005, 9, 1], [3030, 6, 2], [3060, 9, 7], [3073, 1, 2], [3114, 4, 6], [3115, 5, 4], [3117, 5, 9], [3206, 8, 3], [3289, 8, 3], [3503, 9, 1], [3520, 6, 4], [3549, 3, 2], [3558, 5, 0], [3559, 8, 5], [3567, 8, 5], [3597, 9, 3], [3604, 7, 0], [3674, 8, 3], [3718, 4, 9], [3727, 8, 4], [3751, 7, 2], [3757, 8, 3], [3767, 7, 2], [3776, 5, 8], [3780, 4, 6], [3796, 2, 8], [3808, 7, 8], [3811, 2, 3], [3818, 0, 4], [3838, 7, 1], [3853, 6, 2], [3869, 9, 4], [3893, 5, 6], [3902, 5, 3], [3906, 1, 2], [3926, 9, 3], [3941, 4, 2], [3943, 3, 5], [3951, 8, 2], [3985, 9, 4], [4063, 6, 5], [4065, 0, 2], [4075, 8, 3], [4078, 9, 3], [4093, 9, 4], [4140, 8, 2], [4152, 5, 1], [4163, 9, 0], [4176, 2, 7], [4224, 9, 7], [4248, 2, 8], [4256, 3, 2], [4289, 2, 7], [4294, 9, 5], [4355, 5, 9], [4356, 5, 8], [4360, 5, 3], [4374, 5, 6], [4425, 9, 4], [4435, 3, 7], [4437, 3, 2], [4497, 8, 7], [4500, 9, 1], [4536, 6, 5], [4567, 4, 9], [4575, 4, 2], [4601, 8, 4], [4690, 7, 2], [4731, 8, 7], [4807, 8, 3], [4814, 6, 0], [4823, 9, 6], [4837, 7, 2], [4874, 9, 0], [4880, 0, 8], [4886, 7, 1], [4890, 8, 2], [4956, 8, 4], [4966, 7, 3], [4978, 8, 7], [4990, 3, 2], [5067, 3, 2], [5140, 3, 4], [5210, 9, 7], [5246, 7, 2], [5331, 1, 6], [5457, 1, 8], [5495, 8, 3], [5600, 7, 9], [5642, 1, 8], [5734, 3, 7], [5749, 8, 2], [5842, 4, 7], [5887, 7, 0], [5888, 4, 0], [5913, 5, 3], [5936, 4, 9], [5937, 5, 3], [5955, 3, 8], [5972, 5, 3], [5973, 3, 8], [6045, 3, 9], [6046, 3, 8], [6059, 3, 9], [6071, 9, 3], [6091, 9, 3], [6166, 9, 3], [6168, 9, 3], [6392, 5, 2], [6400, 0, 6], [6421, 3, 2], [6505, 9, 0], [6555, 8, 9], [6568, 9, 4], [6571, 9, 7], [6574, 2, 6], [6576, 7, 1], [6597, 0, 7], [6598, 5, 6], [6651, 0, 4], [6744, 2, 8], [6755, 8, 3], [7216, 0, 3], [7432, 7, 2], [7434, 4, 8], [7800, 3, 2], [7821, 3, 2], [7823, 8, 2], [7858, 3, 2], [7905, 3, 2], [7921, 8, 2], [8020, 1, 8], [8062, 5, 8], [8094, 2, 8], [8325, 0, 6], [8408, 8, 6], [8520, 4, 9], [8522, 8, 6], [9009, 7, 2], [9015, 7, 2], [9016, 0, 5], [9019, 7, 2], [9022, 3, 2], [9024, 7, 2], [9031, 7, 2], [9036, 7, 2], [9044, 7, 2], [9045, 7, 2], [9280, 8, 5], [9422, 5, 3], [9482, 5, 3], [9587, 9, 4], [9634, 0, 3], [9642, 9, 7], [9679, 6, 3], [9692, 9, 7], [9698, 6, 5], [9700, 2, 8], [9729, 5, 6], [9744, 8, 1], [9745, 4, 2], [9749, 5, 6], [9768, 2, 0], [9770, 5, 0], [9777, 5, 0], [9779, 2, 0], [9808, 9, 4], [9839, 2, 7], [9858, 6, 8], [9888, 6, 0], [9944, 3, 8], [9975, 3, 2], [9982, 5, 6]]\n"
     ]
    }
   ],
   "source": [
    "import numpy as np\n",
    "# ytest= y_test\n",
    "# y_test=[]\n",
    "# for i in ytest:\n",
    "#     y_test.append(i)\n",
    "    \n",
    "\n",
    "# print(y_test)\n",
    "# print(y_pred)\n",
    "y_=[]\n",
    "for i in y_pred:\n",
    "    p = np.argmax(i)\n",
    "    y_.append(p)\n",
    "    \n",
    "# print(len(y_test))\n",
    "# #print(shape(y_test))\n",
    "# print(len(y_pred))  \n",
    "#wrong=0\n",
    "indicesplus=[]\n",
    "for i in range(len(y_pred)):\n",
    "    if y_test[i]!=y_[i]:\n",
    "        lol=[]\n",
    "        lol.append(i)\n",
    "        lol.append(y_test[i])\n",
    "        lol.append(y_[i])\n",
    "#         print(y_test[i])\n",
    "#         print(y_[i])\n",
    "#         print(\"&&& \"*10)\n",
    "        indicesplus.append(lol)\n",
    "\n",
    "\n",
    "print(\"wrong answers:\",indicesplus)\n",
    "\n",
    "#plt.imshow(X_test[8])"
   ]
  },
  {
   "cell_type": "code",
   "execution_count": 19,
   "id": "9e7059f5",
   "metadata": {},
   "outputs": [],
   "source": [
    "# single = X_test[74]\n",
    "# print(X_test.shape)"
   ]
  },
  {
   "cell_type": "code",
   "execution_count": 20,
   "id": "afc6e036",
   "metadata": {},
   "outputs": [
    {
     "data": {
      "text/plain": [
       "-0.9707"
      ]
     },
     "execution_count": 20,
     "metadata": {},
     "output_type": "execute_result"
    }
   ],
   "source": [
    "len(indicesplus)/10000 - 1"
   ]
  },
  {
   "cell_type": "code",
   "execution_count": 21,
   "id": "7b054903",
   "metadata": {},
   "outputs": [],
   "source": [
    "# #predict_on_test_data(model,single)\n",
    "# model.predict(single)"
   ]
  }
 ],
 "metadata": {
  "kernelspec": {
   "display_name": "modelenv",
   "language": "python",
   "name": "modelenv"
  },
  "language_info": {
   "codemirror_mode": {
    "name": "ipython",
    "version": 3
   },
   "file_extension": ".py",
   "mimetype": "text/x-python",
   "name": "python",
   "nbconvert_exporter": "python",
   "pygments_lexer": "ipython3",
   "version": "3.10.8"
  }
 },
 "nbformat": 4,
 "nbformat_minor": 5
}
