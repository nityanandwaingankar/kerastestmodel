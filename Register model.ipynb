{
 "cells": [
  {
   "cell_type": "code",
   "execution_count": 1,
   "id": "4406e4d4",
   "metadata": {},
   "outputs": [],
   "source": [
    "import mlflow"
   ]
  },
  {
   "cell_type": "code",
   "execution_count": 2,
   "id": "f6d86b71",
   "metadata": {},
   "outputs": [],
   "source": [
    "mlflow.set_tracking_uri(\"http://localhost:5000\")"
   ]
  },
  {
   "cell_type": "code",
   "execution_count": 3,
   "id": "f36b4f1d",
   "metadata": {},
   "outputs": [
    {
     "name": "stderr",
     "output_type": "stream",
     "text": [
      "Registered model 'digitClassifier' already exists. Creating a new version of this model...\n",
      "2023/01/23 14:59:41 INFO mlflow.tracking._model_registry.client: Waiting up to 300 seconds for model version to finish creation.                     Model name: digitClassifier, version 4\n",
      "Created version '4' of model 'digitClassifier'.\n"
     ]
    },
    {
     "data": {
      "text/plain": [
       "<ModelVersion: creation_timestamp=1674466181425, current_stage='None', description='', last_updated_timestamp=1674466181425, name='digitClassifier', run_id='ac695c7184694038a45515541267cf38', run_link='', source='./artifacts/1/ac695c7184694038a45515541267cf38/artifacts/model', status='READY', status_message='', tags={}, user_id='', version='4'>"
      ]
     },
     "execution_count": 3,
     "metadata": {},
     "output_type": "execute_result"
    }
   ],
   "source": [
    "# To register a model we do the following \n",
    "mlflow.register_model(\"runs:/ac695c7184694038a45515541267cf38/model\",'digitClassifier')"
   ]
  },
  {
   "cell_type": "code",
   "execution_count": 4,
   "id": "41ace46b",
   "metadata": {},
   "outputs": [
    {
     "data": {
      "text/plain": [
       "<ModelVersion: creation_timestamp=1674466181425, current_stage='Production', description='', last_updated_timestamp=1674466321769, name='digitClassifier', run_id='ac695c7184694038a45515541267cf38', run_link='', source='./artifacts/1/ac695c7184694038a45515541267cf38/artifacts/model', status='READY', status_message='', tags={}, user_id='', version='4'>"
      ]
     },
     "execution_count": 4,
     "metadata": {},
     "output_type": "execute_result"
    }
   ],
   "source": [
    "client = mlflow.tracking.MlflowClient()\n",
    "client.transition_model_version_stage(\n",
    "    name=\"digitClassifier\",\n",
    "    version=4,\n",
    "    stage=\"Production\",\n",
    "    archive_existing_versions=True\n",
    ")"
   ]
  },
  {
   "cell_type": "code",
   "execution_count": null,
   "id": "8a89fcca",
   "metadata": {},
   "outputs": [],
   "source": []
  },
  {
   "cell_type": "code",
   "execution_count": 12,
   "id": "192a6a2d",
   "metadata": {},
   "outputs": [
    {
     "data": {
      "text/plain": [
       "<ModelVersion: creation_timestamp=1674194296077, current_stage='Production', description='This model version is a keras sequential model with 20 epochs', last_updated_timestamp=1674195079705, name='digitClassifier', run_id='c340de6e0e31471d84db38af1b88524c', run_link='', source='./artifacts/1/c340de6e0e31471d84db38af1b88524c/artifacts/model', status='READY', status_message='', tags={}, user_id='', version='1'>"
      ]
     },
     "execution_count": 12,
     "metadata": {},
     "output_type": "execute_result"
    }
   ],
   "source": [
    "## incase I want to update the description for this model version\n",
    "client.update_model_version(\n",
    "    name=\"digitClassifier\",\n",
    "    version=1,\n",
    "    description=\"This model version is a keras sequential model with 20 epochs\"\n",
    ")\n"
   ]
  },
  {
   "cell_type": "code",
   "execution_count": 13,
   "id": "04a91452",
   "metadata": {},
   "outputs": [],
   "source": [
    "##update a failed run\n",
    "client.update_run('8803b5513a7e4d0bafc14ef9c4032c48', \"FINISHED\", \"NOT_FAILED\")"
   ]
  },
  {
   "cell_type": "code",
   "execution_count": null,
   "id": "5df20b88",
   "metadata": {},
   "outputs": [],
   "source": []
  },
  {
   "cell_type": "code",
   "execution_count": null,
   "id": "88b7cb6d",
   "metadata": {},
   "outputs": [],
   "source": []
  },
  {
   "cell_type": "code",
   "execution_count": 14,
   "id": "ce7daac6",
   "metadata": {},
   "outputs": [
    {
     "name": "stderr",
     "output_type": "stream",
     "text": [
      "Registered model 'digitClassifier' already exists. Creating a new version of this model...\n",
      "2023/01/20 11:57:32 INFO mlflow.tracking._model_registry.client: Waiting up to 300 seconds for model version to finish creation.                     Model name: digitClassifier, version 2\n",
      "Created version '2' of model 'digitClassifier'.\n"
     ]
    },
    {
     "data": {
      "text/plain": [
       "<ModelVersion: creation_timestamp=1674196052703, current_stage='None', description='', last_updated_timestamp=1674196052703, name='digitClassifier', run_id='', run_link='', source='./artifacts/1/d1d5899aed774ea787c262b900203d23/artifacts/model', status='READY', status_message='', tags={}, user_id='', version='2'>"
      ]
     },
     "execution_count": 14,
     "metadata": {},
     "output_type": "execute_result"
    }
   ],
   "source": [
    "#registering another version\n",
    "mlflow.register_model(\"./artifacts/1/d1d5899aed774ea787c262b900203d23/artifacts/model\",'digitClassifier')"
   ]
  },
  {
   "cell_type": "code",
   "execution_count": 15,
   "id": "49b92366",
   "metadata": {},
   "outputs": [
    {
     "data": {
      "text/plain": [
       "<ModelVersion: creation_timestamp=1674196052703, current_stage='Staging', description='', last_updated_timestamp=1674196080696, name='digitClassifier', run_id='', run_link='', source='./artifacts/1/d1d5899aed774ea787c262b900203d23/artifacts/model', status='READY', status_message='', tags={}, user_id='', version='2'>"
      ]
     },
     "execution_count": 15,
     "metadata": {},
     "output_type": "execute_result"
    }
   ],
   "source": [
    "client = mlflow.tracking.MlflowClient()\n",
    "client.transition_model_version_stage(\n",
    "    name=\"digitClassifier\",\n",
    "    version=2,\n",
    "    stage=\"Staging\"\n",
    ")"
   ]
  },
  {
   "cell_type": "code",
   "execution_count": 16,
   "id": "575f6958",
   "metadata": {},
   "outputs": [],
   "source": [
    "client.delete_model_version(name=\"digitClassifier\", version=2)"
   ]
  },
  {
   "cell_type": "code",
   "execution_count": null,
   "id": "e5892292",
   "metadata": {},
   "outputs": [],
   "source": []
  }
 ],
 "metadata": {
  "kernelspec": {
   "display_name": "modelenv",
   "language": "python",
   "name": "modelenv"
  },
  "language_info": {
   "codemirror_mode": {
    "name": "ipython",
    "version": 3
   },
   "file_extension": ".py",
   "mimetype": "text/x-python",
   "name": "python",
   "nbconvert_exporter": "python",
   "pygments_lexer": "ipython3",
   "version": "3.10.8"
  }
 },
 "nbformat": 4,
 "nbformat_minor": 5
}
